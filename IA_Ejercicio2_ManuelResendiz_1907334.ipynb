{
  "nbformat": 4,
  "nbformat_minor": 0,
  "metadata": {
    "colab": {
      "name": "IA_Ejercicio2_ManuelResendiz_1907334.ipynb",
      "provenance": [],
      "authorship_tag": "ABX9TyM7lqaU+H72FEOxEFhyijdQ",
      "include_colab_link": true
    },
    "kernelspec": {
      "name": "python3",
      "display_name": "Python 3"
    },
    "language_info": {
      "name": "python"
    }
  },
  "cells": [
    {
      "cell_type": "markdown",
      "metadata": {
        "id": "view-in-github",
        "colab_type": "text"
      },
      "source": [
        "<a href=\"https://colab.research.google.com/github/ManuelResendiz/LasActividadesVanAqui/blob/main/IA_Ejercicio2_ManuelResendiz_1907334.ipynb\" target=\"_parent\"><img src=\"https://colab.research.google.com/assets/colab-badge.svg\" alt=\"Open In Colab\"/></a>"
      ]
    },
    {
      "cell_type": "markdown",
      "source": [
        "# A2: Ejercicios Básicos en Python\n",
        "\n",
        "\n",
        "**José Manuel Reséndiz Garcia-1907334-juevesN1-N3 **\n",
        "---\n",
        "\n",
        "\n",
        "\n",
        "\n"
      ],
      "metadata": {
        "id": "-WUWU86BpSgW"
      }
    },
    {
      "cell_type": "markdown",
      "source": [
        "# Descripcion : 1. Escribe un programa que le pida al usuario por su nombre y que lo salude con su nombre, excepto si se llama “Ana”, “Juan”, y “Pedro”.\n"
      ],
      "metadata": {
        "id": "LgKGYh4-FbHv"
      }
    },
    {
      "cell_type": "code",
      "execution_count": null,
      "metadata": {
        "colab": {
          "base_uri": "https://localhost:8080/"
        },
        "id": "GvRSqmb6ovyo",
        "outputId": "8241f1b4-6226-4887-c509-6bc2ca996d3d"
      },
      "outputs": [
        {
          "output_type": "stream",
          "name": "stdout",
          "text": [
            "Ho-hola espera primeron ¿cual es tu nombre?Jose\n",
            "ahh que onda  Jose ¿que cuentas?\n"
          ]
        }
      ],
      "source": [
        "n = input('Ho-hola espera primeron ¿cual es tu nombre?') #se pregunta el nombre del usario con input\n",
        "\n",
        "\n",
        "#se usa el if para la condicion junto con or , se usaron varias condicones si el usuario pone de manera diferente su nombre\n",
        "if n=='Ana' or n=='ana' or n=='ANA' or n=='Juan' or n=='JUAN' or n=='juan' or n=='pedro' or n=='PEDRO' or n=='Pedro': \n",
        "     print(\"*se va epicamente porque le cael mal\",n,\"*\" \", me tengo que ir adios -.-\")\n",
        "else:\n",
        "    print(\"ahh que onda \",n, \"¿que cuentas?\")\n",
        "#se imprime si se cumplio la condicion el mensaje esperado sino se imprime otro"
      ]
    },
    {
      "cell_type": "markdown",
      "source": [
        "# Aqui se veran las distintas respuestas que da el codigo 1"
      ],
      "metadata": {
        "id": "7qGx0P52NVSv"
      }
    },
    {
      "cell_type": "code",
      "source": [
        "n = input('Ho-hola espera primeron ¿cual es tu nombre?') \n",
        "\n",
        "if n=='Ana' or n=='ana' or n=='ANA' or n=='Juan' or n=='JUAN' or n=='juan' or n=='pedro' or n=='PEDRO' or n=='Pedro': \n",
        "     print(\"*se va epicamente porque le cael mal\",n,\"*\" \", me tengo que ir adios -.-\")\n",
        "else:\n",
        "    print(\"ahh que onda \",n, \"¿que cuentas?\")\n"
      ],
      "metadata": {
        "colab": {
          "base_uri": "https://localhost:8080/"
        },
        "id": "ST8nhbHjNfC6",
        "outputId": "1b8eb1f1-4ea9-4c17-9783-0e973608cacb"
      },
      "execution_count": 12,
      "outputs": [
        {
          "output_type": "stream",
          "name": "stdout",
          "text": [
            "Ho-hola espera primeron ¿cual es tu nombre?Ana\n",
            "*se va epicamente porque le cael mal Ana *, me tengo que ir adios -.-\n"
          ]
        }
      ]
    },
    {
      "cell_type": "code",
      "source": [
        "n = input('Ho-hola espera primeron ¿cual es tu nombre?') \n",
        "\n",
        "if n=='Ana' or n=='ana' or n=='ANA' or n=='Juan' or n=='JUAN' or n=='juan' or n=='pedro' or n=='PEDRO' or n=='Pedro': \n",
        "     print(\"*se va epicamente porque le cael mal\",n,\"*\" \", me tengo que ir adios -.-\")\n",
        "else:\n",
        "    print(\"ahh que onda \",n, \"¿que cuentas?\")\n"
      ],
      "metadata": {
        "colab": {
          "base_uri": "https://localhost:8080/"
        },
        "id": "IsblDrI1Nu3b",
        "outputId": "416869cd-7a86-4969-d734-643c5e6535ce"
      },
      "execution_count": 13,
      "outputs": [
        {
          "output_type": "stream",
          "name": "stdout",
          "text": [
            "Ho-hola espera primeron ¿cual es tu nombre?juan\n",
            "*se va epicamente porque le cael mal juan *, me tengo que ir adios -.-\n"
          ]
        }
      ]
    },
    {
      "cell_type": "code",
      "source": [
        "n = input('Ho-hola espera primeron ¿cual es tu nombre?') \n",
        "\n",
        "if n=='Ana' or n=='ana' or n=='ANA' or n=='Juan' or n=='JUAN' or n=='juan' or n=='pedro' or n=='PEDRO' or n=='Pedro': \n",
        "     print(\"*se va epicamente porque le cael mal\",n,\"*\" \", me tengo que ir adios -.-\")\n",
        "else:\n",
        "    print(\"ahh que onda \",n, \"¿que cuentas?\")\n"
      ],
      "metadata": {
        "colab": {
          "base_uri": "https://localhost:8080/"
        },
        "id": "ze9JhPs3N26t",
        "outputId": "264ade41-7843-45de-84db-dc924bf0133b"
      },
      "execution_count": 14,
      "outputs": [
        {
          "output_type": "stream",
          "name": "stdout",
          "text": [
            "Ho-hola espera primeron ¿cual es tu nombre?PEDRO\n",
            "*se va epicamente porque le cael mal PEDRO *, me tengo que ir adios -.-\n"
          ]
        }
      ]
    },
    {
      "cell_type": "markdown",
      "source": [
        "# Descripcion: 2.Escribe una función que regrese el último elemento de una lista y que revierta el orden de la lista e imprima la lista revertida.\n"
      ],
      "metadata": {
        "id": "UWZGQmQKqAFY"
      }
    },
    {
      "cell_type": "code",
      "execution_count": 15,
      "metadata": {
        "colab": {
          "base_uri": "https://localhost:8080/"
        },
        "id": "K5RLg6UOrMJI",
        "outputId": "0d2cd326-5f89-495d-baf5-963b89b85e22"
      },
      "outputs": [
        {
          "output_type": "stream",
          "name": "stdout",
          "text": [
            "[456, 345, 234, 123]\n"
          ]
        }
      ],
      "source": [
        "def inversa():\n",
        "  global s #Se declara el nombre y lista del la funcion en el codigo.\n",
        "  s=[123,234,345,456]\n",
        "  newList = list(reversed(s)) #En esta parte se una funcion para revertir.\n",
        "  print(newList)\n",
        "inversa()  #Se manda llamar la funcion cuantas veces se requiera ,si no se pone no muestra el resutado. "
      ]
    },
    {
      "cell_type": "markdown",
      "source": [
        "# Descripcion: 3.Escribe una función que toma una lista de strings y los imprima línea por línea en un marco rectangular. Por ejemplo, la lista [“Hola”, “a”, “todos”, “esto”, “es”, “un”, “marco”] se imprime:\n",
        "\n",
        "![Captura de pantalla (534).png](data:image/png;base64,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)\n",
        "\n",
        "\n"
      ],
      "metadata": {
        "id": "5fwpoc3XFmEZ"
      }
    },
    {
      "cell_type": "code",
      "execution_count": 16,
      "metadata": {
        "colab": {
          "base_uri": "https://localhost:8080/"
        },
        "id": "OxcVOJ_rsjuT",
        "outputId": "1cfd4413-cb4a-4043-fb52-9edcf185bee2"
      },
      "outputs": [
        {
          "output_type": "stream",
          "name": "stdout",
          "text": [
            "\t*************************\t\n",
            "\t*\tUn\t\t*\n",
            "\t*\tgran\t\t*\n",
            "\t*\tpoder\t\t*\n",
            "\t*\tcon-\t\t*\n",
            "\t*\tlleva\t\t*\n",
            "\t*\tuna\t\t*\n",
            "\t*\tgran\t\t*\n",
            "\t*\trespon-\t\t*\n",
            "\t*\tsabili-\t\t*\n",
            "\t*\tdad\t\t*\n",
            "\t*\t:)\t\t*\n",
            "\t*************************\t\n"
          ]
        }
      ],
      "source": [
        "def marcoR():\n",
        "  global Lista #Se declara funcion y lista.\n",
        "  Lista=[\"Un\",\"gran\",\"poder\",\"con-\",\"lleva\",\"una\",\"gran\",\"respon-\",\"sabili-\",\"dad\",\":)\"]\n",
        "  print(\"\\t\"+\"*\"+\"*\"+\"*\"+\"*\"+\"*\"+\"*\"+\"*\"+\"*\"+\"*\"+\"*\"+\"*\"+\"*\"+\"*\"+\"*\"+\"*\"+\"*\"+\"*\"+\"*\"+\"*\"+\"*\"+\"*\"+\"*\"+\"*\"+\"*\"+\"*\"+\"\\t\")\n",
        "  for cadena in Lista:\n",
        "  #Este ciclo for se encarga de poner los lados del marco con \\t se usa para saltar espacio en el reglon.\n",
        "    print(\"\\t*\"+\"\\t\"+cadena+\"\\t\"+\"\\t*\")\n",
        "  \n",
        "  print(\"\\t\"+\"*\"+\"*\"+\"*\"+\"*\"+\"*\"+\"*\"+\"*\"+\"*\"+\"*\"+\"*\"+\"*\"+\"*\"+\"*\"+\"*\"+\"*\"+\"*\"+\"*\"+\"*\"+\"*\"+\"*\"+\"*\"+\"*\"+\"*\"+\"*\"+\"*\"+\"\\t\")\n",
        "#Tanto en el incio y final se pone su tapa del marco.\n",
        "marcoR()\n"
      ]
    }
  ]
}